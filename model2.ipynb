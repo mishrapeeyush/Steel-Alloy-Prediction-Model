{
 "cells": [
  {
   "cell_type": "code",
   "execution_count": 50,
   "id": "ac1ce54a",
   "metadata": {},
   "outputs": [],
   "source": [
    "import pandas as pd \n",
    "import numpy as np\n",
    "import matplotlib.pyplot as plt \n"
   ]
  },
  {
   "cell_type": "code",
   "execution_count": 51,
   "id": "8ac472b2",
   "metadata": {},
   "outputs": [],
   "source": [
    "df= pd.read_csv(r'C:\\Users\\ankit\\Downloads\\mat.csv')"
   ]
  },
  {
   "cell_type": "code",
   "execution_count": 52,
   "id": "dceb031b",
   "metadata": {},
   "outputs": [
    {
     "data": {
      "text/plain": [
       "['Alloy code',\n",
       " ' C',\n",
       " ' Si',\n",
       " ' Mn',\n",
       " ' P',\n",
       " ' S',\n",
       " ' Ni',\n",
       " ' Cr',\n",
       " ' Mo',\n",
       " ' Cu',\n",
       " 'V',\n",
       " ' Al',\n",
       " ' N',\n",
       " 'Ceq',\n",
       " 'Nb + Ta',\n",
       " ' Temperature (°C)',\n",
       " ' 0.2% Proof Stress (MPa)',\n",
       " ' Tensile Strength (MPa)',\n",
       " ' Elongation (%)',\n",
       " ' Reduction in Area (%)']"
      ]
     },
     "execution_count": 52,
     "metadata": {},
     "output_type": "execute_result"
    }
   ],
   "source": [
    "list(df.columns)"
   ]
  },
  {
   "cell_type": "code",
   "execution_count": 53,
   "id": "03ac7010",
   "metadata": {},
   "outputs": [],
   "source": [
    "m= df.shape[0]\n",
    "n= 15\n",
    "k=4\n",
    "X = np.ones((m,n + 1))\n",
    "y = np.array((m,1))"
   ]
  },
  {
   "cell_type": "code",
   "execution_count": 54,
   "id": "3e9e08ad",
   "metadata": {},
   "outputs": [],
   "source": [
    "X[:,1] = df[' C'].values\n",
    "X[:,2] = df[' Si'].values\n",
    "X[:,3] = df[' Mn'].values\n",
    "X[:,4] = df[' P'].values\n",
    "X[:,5] = df[' S'].values\n",
    "X[:,6] = df[' Ni'].values\n",
    "X[:,7] = df[' Cr'].values\n",
    "X[:,8] = df[' Mo'].values\n",
    "X[:,9] = df[' Cu'].values\n",
    "X[:,10] = df['V'].values\n",
    "X[:,11] = df[' Al'].values\n",
    "X[:,12] = df[' N'].values\n",
    "X[:,13] = df['Ceq'].values\n",
    "X[:,14] = df['Nb + Ta'].values\n",
    "X[:,15] = df[' Temperature (°C)'].values\n"
   ]
  },
  {
   "cell_type": "code",
   "execution_count": 55,
   "id": "afc2c769",
   "metadata": {},
   "outputs": [],
   "source": [
    "y=df[' Elongation (%)'].values"
   ]
  },
  {
   "cell_type": "code",
   "execution_count": 56,
   "id": "439e3dd3",
   "metadata": {},
   "outputs": [],
   "source": [
    "import seaborn as sns\n",
    "from sklearn.model_selection import train_test_split\n",
    "from sklearn.linear_model import LinearRegression\n",
    "from sklearn.metrics import mean_squared_error, mean_absolute_error\n",
    "from sklearn import preprocessing"
   ]
  },
  {
   "cell_type": "code",
   "execution_count": 57,
   "id": "1044ac03",
   "metadata": {},
   "outputs": [],
   "source": [
    "# calculating the mean for normalization\n",
    "for i in range (n):\n",
    "    X[:,i]= (X[:,i]-X[:,i].mean())"
   ]
  },
  {
   "cell_type": "code",
   "execution_count": 58,
   "id": "345b1949",
   "metadata": {},
   "outputs": [],
   "source": [
    "X_train, X_test, y_train, y_test = train_test_split(\n",
    "    X, y, test_size=0.1, )"
   ]
  },
  {
   "cell_type": "code",
   "execution_count": 59,
   "id": "4baae188",
   "metadata": {},
   "outputs": [],
   "source": [
    "model = LinearRegression()"
   ]
  },
  {
   "cell_type": "code",
   "execution_count": 60,
   "id": "370fb013",
   "metadata": {},
   "outputs": [
    {
     "data": {
      "text/plain": [
       "LinearRegression()"
      ]
     },
     "execution_count": 60,
     "metadata": {},
     "output_type": "execute_result"
    }
   ],
   "source": [
    "model.fit(X_train,y_train)"
   ]
  },
  {
   "cell_type": "code",
   "execution_count": 68,
   "id": "3778f6da",
   "metadata": {},
   "outputs": [],
   "source": [
    "y_pred_test=model.predict(X_test)"
   ]
  },
  {
   "cell_type": "code",
   "execution_count": 69,
   "id": "44afd6b1",
   "metadata": {},
   "outputs": [
    {
     "data": {
      "text/plain": [
       "array([19.28171274, 38.14777702, 28.69919994, 31.25390955, 29.96350553,\n",
       "       33.66378665, 37.41053885, 21.32977015, 24.11921316, 23.57517021,\n",
       "       14.7950847 , 34.78654006, 36.47059803, 25.18393571, 22.77273669,\n",
       "       28.85762675, 25.70461531, 27.76062178, 12.87466956, 28.07227052,\n",
       "       23.27274067, 33.13950813, 28.71863684, 22.6102998 , 36.03917971,\n",
       "       33.9097346 ,  9.05641006, 11.83608428, 34.21637119, 31.43609429,\n",
       "       27.40426323, 14.31644329, 22.54123889, 31.95949009, 32.74234389,\n",
       "       24.76290787, 35.00210544, 31.37777906, 32.80274175, 28.34017388,\n",
       "       34.81202026, 24.67498693, 30.13082377, 17.56821005, 28.07991741,\n",
       "       34.57194672, 20.75027925, 27.25877287, 28.88529559, 24.46384129,\n",
       "       26.47071431, 31.21001402, 22.46929143, 20.3464353 , 19.72634771,\n",
       "       24.59873654, 30.35156207, 23.03140554, 25.67659122, 27.48509077,\n",
       "       22.63346276, 21.90627449, 20.57345082, 29.89006688, 33.88565566,\n",
       "       13.65868419, 32.58238564, 32.82673708, 21.09675545, 20.88005588,\n",
       "       23.46076942, 36.01833191, 22.85477826, 23.54714611, 22.17646461,\n",
       "       32.82416425, 22.24814258, 29.43638559, 23.8246284 , 21.61010766,\n",
       "       31.79082518, 28.0058553 , 22.30477418, 31.75621056, 29.06610122,\n",
       "       32.06492654, 25.75276743, 35.28746216, 25.2940477 , 29.61453588,\n",
       "       32.8567986 , 26.26422086, 29.14824116, 31.7380192 , 10.61090499,\n",
       "       25.87193356, 38.79091219, 24.09573382, 32.84501205, 12.6656396 ,\n",
       "       28.32349543, 11.92098193, 30.21296371, 30.1353004 , 33.4874772 ,\n",
       "       29.66263094, 39.41254796, 33.8674643 , 34.95618219, 29.01754015,\n",
       "       24.56645412, 38.4752614 , 27.4234928 , 25.70322903, 29.28683952,\n",
       "       30.82864505, 25.40218578, 18.97047093, 30.73667279, 27.28410258,\n",
       "       20.77990126, 31.01597509, 24.19275677, 38.14454588, 22.33439619,\n",
       "       35.15365775, 13.95809998, 29.96211924, 21.49754648, 26.21072877,\n",
       "       28.56784687, 35.78000347, 34.39419062, 37.82442961, 27.82057304,\n",
       "       22.02067528, 24.41858136, 19.0949686 , 20.27928672, 32.74710557,\n",
       "       34.93218686, 28.82534433, 23.98962053, 24.98944374, 31.22067635,\n",
       "       26.72818165, 19.86032294, 19.69765516, 11.53273517, 20.92853473,\n",
       "       27.80603633, 27.34463191, 22.55859977, 20.66439744, 19.48359824,\n",
       "       34.95037822, 33.32946806, 24.8216787 , 22.66973308, 28.84479068,\n",
       "       27.87349205, 32.46676806, 28.61377012, 28.02650869, 36.05096626,\n",
       "       33.08991807, 33.80706644, 34.95360936, 26.8087695 , 20.43282393,\n",
       "       28.39366597, 16.17026445, 20.38066518, 27.09914188, 15.21667521,\n",
       "       32.98162172, 37.72618964, 22.13369063, 27.11150771, 23.7458452 ,\n",
       "       39.11440604, 17.9175744 , 34.98499284, 31.06765971, 26.75117281,\n",
       "       24.62763977, 15.60492196, 16.81007786, 23.31286513, 33.92152115,\n",
       "       38.1962731 , 23.19841318, 29.09123124, 27.01879605, 31.5923724 ,\n",
       "       24.88935095, 26.26875964, 30.9138273 , 24.21419544, 11.02764068,\n",
       "       35.32975467, 33.57212351, 31.0147407 , 31.41628463, 32.13558701,\n",
       "       23.01404155, 19.26300488, 36.98496094, 17.49602561, 16.92452981,\n",
       "       30.77314029, 31.80139534, 24.13931453, 32.09295063, 22.78677428,\n",
       "       26.75708488, 36.69401069, 33.79079328, 36.01510077, 21.94477844,\n",
       "       32.42275464, 28.64369519, 21.06896808, 21.56874021, 13.47198763,\n",
       "       25.31244759, 24.38480497, 23.41028774, 23.80085167, 34.85551583,\n",
       "       18.7853514 , 20.42915466, 24.88944844, 10.05755308, 31.91689917,\n",
       "       33.15164863, 20.76237771, 25.53973285, 19.56573818, 19.64005606,\n",
       "       28.89739669, 29.38821798, 29.62676545, 36.02090474, 37.53532058,\n",
       "       38.34782541, 35.59674453, 22.83031004, 30.69471915, 27.83267414,\n",
       "       29.78745406, 30.74321523, 25.35564567, 27.66917795, 30.18918699,\n",
       "       34.20423068, 15.43876495, 15.10921117, 28.60015942, 31.52475462,\n",
       "       24.67932439, 30.60253076, 29.22858698, 23.8492458 , 25.43885585,\n",
       "       26.5932864 , 33.92377218, 26.19405032, 17.64946942, 35.92614352,\n",
       "       29.2278789 , 32.03895834, 28.47308565, 29.14833865, 20.88819761])"
      ]
     },
     "execution_count": 69,
     "metadata": {},
     "output_type": "execute_result"
    }
   ],
   "source": [
    "y_pred_test\n"
   ]
  },
  {
   "cell_type": "code",
   "execution_count": 70,
   "id": "b86368d1",
   "metadata": {},
   "outputs": [
    {
     "data": {
      "text/plain": [
       "<matplotlib.collections.PathCollection at 0x25d9fc44f10>"
      ]
     },
     "execution_count": 70,
     "metadata": {},
     "output_type": "execute_result"
    },
    {
     "data": {
      "image/png": "[encoded data removed]",
      "text/plain": [
       "<Figure size 640x480 with 1 Axes>"
      ]
     },
     "metadata": {},
     "output_type": "display_data"
    }
   ],
   "source": [
    "plt.scatter(y_test,y_pred_test)"
   ]
  },
  {
   "cell_type": "code",
   "execution_count": 64,
   "id": "18604d34",
   "metadata": {},
   "outputs": [],
   "source": [
    "from sklearn.metrics import r2_score"
   ]
  },
  {
   "cell_type": "code",
   "execution_count": 71,
   "id": "f71e691c",
   "metadata": {},
   "outputs": [
    {
     "data": {
      "text/plain": [
       "52.767049285302846"
      ]
     },
     "execution_count": 71,
     "metadata": {},
     "output_type": "execute_result"
    }
   ],
   "source": [
    "r2_score(y_test,y_pred_test)*100"
   ]
  },
  {
   "attachments": {},
   "cell_type": "markdown",
   "id": "834d2d80",
   "metadata": {},
   "source": [
    "# Accuracy of prediction of  Elongation (%)   = 76%"
   ]
  },
  {
   "cell_type": "code",
   "execution_count": 86,
   "id": "d81cf650",
   "metadata": {},
   "outputs": [],
   "source": [
    "\n",
    "X[:,1] = df[' C'].values\n",
    "X[:,2] = df[' Si'].values\n",
    "X[:,3] = df[' Mn'].values\n",
    "X[:,4] = df[' P'].values\n",
    "X[:,5] = df[' S'].values\n",
    "X[:,6] = df[' Ni'].values\n",
    "X[:,7] = df[' Cr'].values\n",
    "X[:,8] = df[' Mo'].values\n",
    "X[:,9] = df[' Cu'].values\n",
    "X[:,10] = df['V'].values\n",
    "X[:,11] = df[' Al'].values\n",
    "X[:,12] = df[' N'].values\n",
    "X[:,13] = df['Ceq'].values\n",
    "X[:,14] = df['Nb + Ta'].values\n",
    "X[:,15] = df[' Temperature (°C)'].values"
   ]
  },
  {
   "cell_type": "code",
   "execution_count": 87,
   "id": "68dd498f",
   "metadata": {},
   "outputs": [],
   "source": [
    "y1=df[' Reduction in Area (%)'].values"
   ]
  },
  {
   "cell_type": "code",
   "execution_count": null,
   "id": "9a0bbe58",
   "metadata": {},
   "outputs": [],
   "source": []
  },
  {
   "cell_type": "code",
   "execution_count": 88,
   "id": "979ac46d",
   "metadata": {},
   "outputs": [],
   "source": [
    "X1_train, X1_test, y1_train, y1_test = train_test_split(\n",
    "    X, y1, test_size=0.3, random_state=101)"
   ]
  },
  {
   "cell_type": "code",
   "execution_count": 80,
   "id": "d01e4316",
   "metadata": {},
   "outputs": [],
   "source": [
    "model = LinearRegression()"
   ]
  },
  {
   "cell_type": "code",
   "execution_count": 89,
   "id": "34a97f4b",
   "metadata": {},
   "outputs": [
    {
     "data": {
      "text/plain": [
       "LinearRegression()"
      ]
     },
     "execution_count": 89,
     "metadata": {},
     "output_type": "execute_result"
    }
   ],
   "source": [
    "model.fit(X1_train,y1_train)\n"
   ]
  },
  {
   "cell_type": "code",
   "execution_count": 92,
   "id": "bc4aab8c",
   "metadata": {},
   "outputs": [],
   "source": [
    "y1_pred_test=model.predict(X1_test)\n"
   ]
  },
  {
   "cell_type": "code",
   "execution_count": 93,
   "id": "55ed0b87",
   "metadata": {},
   "outputs": [
    {
     "data": {
      "text/plain": [
       "array([63.6087114 , 72.24083884, 67.85036174, 72.09581844, 79.55551125,\n",
       "       74.56352696, 70.54740548, 50.59905949, 72.5682237 , 68.33809005,\n",
       "       62.7796853 , 80.22313654, 68.90000703, 74.4377939 , 60.1443073 ,\n",
       "       74.56526908, 72.07723045, 77.28981361, 59.57807168, 54.1198795 ,\n",
       "       57.87211214, 77.47733691, 57.36132085, 60.71287081, 83.439152  ,\n",
       "       79.7000116 , 49.6124053 , 50.61942977, 64.93869488, 61.77602465,\n",
       "       76.2177708 , 61.6064969 , 58.25427472, 63.77146629, 80.86094104,\n",
       "       77.03384909, 69.15735828, 75.39942205, 86.34457583, 65.21567596,\n",
       "       82.1381453 , 64.92039128, 77.70133595, 59.88683565, 82.76108955,\n",
       "       81.00813265, 51.77353895, 73.50825376, 80.24139018, 72.31793594,\n",
       "       65.71012658, 82.57373756, 63.34784788, 65.4782816 , 63.05871506,\n",
       "       67.08698828, 77.60857146, 56.93757744, 70.80696318, 78.81846276,\n",
       "       73.29470869, 53.11406941, 63.89143507, 81.02895401, 64.3277328 ,\n",
       "       53.19550586, 82.85610477, 67.30770167, 67.60104156, 67.33926697,\n",
       "       55.8436419 , 68.50169844, 67.73713435, 67.06782278, 68.15206747,\n",
       "       62.89298784, 75.8666767 , 69.38971569, 67.26738803, 66.92132766,\n",
       "       79.62568804, 56.88328114, 54.50311144, 60.5885924 , 75.83176575,\n",
       "       82.02438438, 74.42629973, 67.74304604, 73.39004056, 82.55760316,\n",
       "       77.90113877, 78.02288972, 76.61523903, 84.47500563, 52.34197779,\n",
       "       70.22305515, 75.04745494, 60.98384721, 77.8304414 , 59.0405449 ,\n",
       "       75.37782396, 50.74487686, 78.48480923, 60.62242154, 82.70649799,\n",
       "       72.29242816, 76.85845769, 88.21414603, 71.04684207, 55.81301563,\n",
       "       71.68110301, 72.41697568, 77.12918096, 72.45435006, 75.73900126,\n",
       "       71.58950214, 61.61125254, 66.98604131, 76.34353521, 69.81714108,\n",
       "       65.84922305, 70.45375922, 54.68799614, 71.8060136 , 68.57879554,\n",
       "       69.38017689, 54.2608604 , 79.93263086, 70.08191784, 61.47653556,\n",
       "       59.82942087, 86.79641995, 68.10070234, 72.99344586, 78.37181998,\n",
       "       65.60851755, 67.01264357, 57.66479257, 59.92243736, 86.47703196,\n",
       "       90.08371623, 79.15938381, 61.6793748 , 64.18200085, 82.58713707,\n",
       "       70.82612868, 65.08994289, 63.62597605, 56.28685363, 66.56144076,\n",
       "       74.54610358, 53.79605235, 68.81758913, 58.65740112, 59.00563395,\n",
       "       66.197303  , 66.23113214, 71.35631635, 75.84255793, 67.14543073,\n",
       "       80.54457874, 70.15476379, 57.93993708, 76.97842647, 83.50984937,\n",
       "       79.6550531 , 82.73051124, 66.63212824, 78.67500854, 68.21234764,\n",
       "       81.76203012, 57.60016793, 61.43083027, 71.48907679, 62.75556653,\n",
       "       87.27449755, 73.17788474, 72.42937339, 59.05794622, 70.52794986,\n",
       "       76.90220084, 60.67378667, 85.23439864, 86.15328934, 66.25991571,\n",
       "       59.23633802, 57.21358976, 63.08152239, 77.7362469 , 79.77070897,\n",
       "       74.76606888, 74.29894359, 78.84799667, 72.87609863, 74.61442594,\n",
       "       69.13695823, 65.26657494, 68.9306333 , 63.60117268, 53.03904761,\n",
       "       74.24370043, 78.5055066 , 83.98053058, 79.47814166, 68.63498983,\n",
       "       58.99271442, 70.79549289, 73.16306044, 63.39203192, 66.5188257 ,\n",
       "       69.30444052, 78.21310541, 61.52743454, 83.29465165, 59.24141369,\n",
       "       62.97547842, 75.88407803, 67.55434984, 68.0668732 , 69.20883717,\n",
       "       80.83692779, 65.56530012, 70.55980319, 71.42513849, 53.87252169,\n",
       "       73.33547556, 58.08701932, 69.52742795, 59.00882704, 69.42392004,\n",
       "       56.87913499, 65.07844873, 60.51238114, 54.1282161 , 85.40492735,\n",
       "       63.06912468, 65.49554625, 73.26656836, 59.78910723, 70.9543479 ,\n",
       "       78.06306066, 77.24739417, 56.849452  , 72.91641227, 70.76957723,\n",
       "       74.98888749, 69.43874434, 55.35744683, 59.15384744, 76.19349046,\n",
       "       81.66578695, 61.67907748, 75.07932236, 77.00570876, 70.22624824,\n",
       "       79.34690711, 56.14769525, 58.86449664, 69.44926698, 87.52479355,\n",
       "       74.93586814, 74.81859388, 75.22821719, 62.08457487, 77.33902561,\n",
       "       76.05707635, 78.79711798, 71.63868356, 60.82728306, 84.16644488,\n",
       "       77.56527911, 72.75414133, 71.07945348, 67.99066194, 58.22977861])"
      ]
     },
     "execution_count": 93,
     "metadata": {},
     "output_type": "execute_result"
    }
   ],
   "source": [
    "y1_pred_test"
   ]
  },
  {
   "cell_type": "code",
   "execution_count": 94,
   "id": "33a6204c",
   "metadata": {},
   "outputs": [
    {
     "data": {
      "text/plain": [
       "<matplotlib.collections.PathCollection at 0x25d9fd19d30>"
      ]
     },
     "execution_count": 94,
     "metadata": {},
     "output_type": "execute_result"
    },
    {
     "data": {
      "image/png": "[encoded data removed]",
      "text/plain": [
       "<Figure size 640x480 with 1 Axes>"
      ]
     },
     "metadata": {},
     "output_type": "display_data"
    }
   ],
   "source": [
    "plt.scatter(y1_test,y1_pred_test)"
   ]
  },
  {
   "cell_type": "code",
   "execution_count": 95,
   "id": "33a4d734",
   "metadata": {},
   "outputs": [
    {
     "data": {
      "text/plain": [
       "52.04586555763766"
      ]
     },
     "execution_count": 95,
     "metadata": {},
     "output_type": "execute_result"
    }
   ],
   "source": [
    "r2_score(y1_test,y1_pred_test)*100"
   ]
  },
  {
   "attachments": {},
   "cell_type": "markdown",
   "id": "2a680602",
   "metadata": {},
   "source": [
    "## Accuracy for prediction of  ' Reduction in Area (%)=72%"
   ]
  },
  {
   "cell_type": "code",
   "execution_count": null,
   "id": "fcc7c922",
   "metadata": {},
   "outputs": [],
   "source": []
  },
  {
   "attachments": {},
   "cell_type": "markdown",
   "id": "525cf551",
   "metadata": {},
   "source": [
    "# Conclusion\n",
    "## Accuracy of prediction for  :\n",
    "###   1. 0.2% Proof Stress (MPa) =84 %\n",
    "###   2. Tensile Strength (MPa) = 69.49%\n",
    "###   3.  prediction of Elongation (%) = 76%\n",
    "###   4. Reduction in Area (%) =72%"
   ]
  },
  {
   "cell_type": "code",
   "execution_count": null,
   "id": "9570e91b",
   "metadata": {},
   "outputs": [],
   "source": []
  }
 ],
 "metadata": {
  "kernelspec": {
   "display_name": "Python 3 (ipykernel)",
   "language": "python",
   "name": "python3"
  },
  "language_info": {
   "codemirror_mode": {
    "name": "ipython",
    "version": 3
   },
   "file_extension": ".py",
   "mimetype": "text/x-python",
   "name": "python",
   "nbconvert_exporter": "python",
   "pygments_lexer": "ipython3",
   "version": "3.9.13"
  }
 },
 "nbformat": 4,
 "nbformat_minor": 5
}
